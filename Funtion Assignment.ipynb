{
 "cells": [
  {
   "cell_type": "markdown",
   "id": "cd3d5a39",
   "metadata": {},
   "source": [
    "# Answer1"
   ]
  },
  {
   "cell_type": "code",
   "execution_count": 1,
   "id": "d00816c2",
   "metadata": {},
   "outputs": [
    {
     "name": "stdout",
     "output_type": "stream",
     "text": [
      "[1, 3, 5, 7, 9, 11, 13, 15, 17, 19, 21, 23]\n"
     ]
    }
   ],
   "source": [
    "def word is used to create a function.\n",
    "\n",
    "def odd_num():\n",
    "    i = 1\n",
    "    l = []\n",
    "\n",
    "    while i < 25:\n",
    "        if i % 2 != 0:\n",
    "            l.append(i)\n",
    "        i = i + 1\n",
    "\n",
    "    return l\n",
    "\n",
    "result = odd_num()\n",
    "print(result)\n"
   ]
  },
  {
   "cell_type": "markdown",
   "id": "6b690f90",
   "metadata": {},
   "source": [
    "# Answer2"
   ]
  },
  {
   "cell_type": "code",
   "execution_count": 25,
   "id": "fbe6afc4",
   "metadata": {},
   "outputs": [
    {
     "name": "stdout",
     "output_type": "stream",
     "text": [
      "[1, 2, 3]\n"
     ]
    }
   ],
   "source": [
    "def test(*args):\n",
    "    l=[]\n",
    "    for i in args:\n",
    "        if type(i)==int:\n",
    "            l.append(i)\n",
    "    return l\n",
    "result=test(1,2,3,[2,3,4,\"Sharique\"],(1,3,4),\"Sharique\")\n",
    "print(result)"
   ]
  },
  {
   "cell_type": "code",
   "execution_count": null,
   "id": "e664f2f4",
   "metadata": {},
   "outputs": [],
   "source": [
    "The *args parameter allows a function to accept a variable number of positional arguments."
   ]
  },
  {
   "cell_type": "code",
   "execution_count": 16,
   "id": "b214a638",
   "metadata": {},
   "outputs": [],
   "source": [
    "def test1(*args,**kwargs):\n",
    "    return kwargs\n",
    "result=test1(2,3,4,5,\"ML\",\"DATA SCIENCE\",a=234,b=\"Sharique\",c=\"JMI\")\n",
    "print(result)"
   ]
  },
  {
   "cell_type": "code",
   "execution_count": null,
   "id": "34424efe",
   "metadata": {},
   "outputs": [],
   "source": [
    "The**kwargs in a function definition, it collects any additional keyword arguments passed to the function into a dictionary, where the keys are the argument names, and the values are the argument values."
   ]
  },
  {
   "cell_type": "markdown",
   "id": "ac4ae313",
   "metadata": {},
   "source": [
    "# Answer3"
   ]
  },
  {
   "cell_type": "code",
   "execution_count": null,
   "id": "5e8c1388",
   "metadata": {},
   "outputs": [],
   "source": [
    "In Python, an iterator is an object that represents a stream of data and allows you to iterate (loop) over the elements of that data stream one by one. Iterators are typically used with sequences like lists, tuples, strings, or any other iterable data structures.\n",
    "To work with iterators,we can use the iter() function to initialize an iterator object and the next() function to iterate over the elements of the iterator.\n",
    "\n"
   ]
  },
  {
   "cell_type": "code",
   "execution_count": 18,
   "id": "7a9802b1",
   "metadata": {},
   "outputs": [
    {
     "name": "stdout",
     "output_type": "stream",
     "text": [
      "2\n",
      "4\n",
      "6\n",
      "8\n",
      "10\n"
     ]
    }
   ],
   "source": [
    "# Initialize an iterator object\n",
    "my_list = [2, 4, 6, 8, 10, 12, 14, 16, 18, 20]\n",
    "iterator = iter(my_list)\n",
    "\n",
    "# Iterate and print the first five elements\n",
    "for _ in range(5):\n",
    "    element = next(iterator)\n",
    "    print(element)\n"
   ]
  },
  {
   "cell_type": "markdown",
   "id": "710247f3",
   "metadata": {},
   "source": [
    "# Answer4"
   ]
  },
  {
   "cell_type": "code",
   "execution_count": null,
   "id": "a8776bdb",
   "metadata": {},
   "outputs": [],
   "source": [
    "A generator function is a special type of function that allows you to create an iterator. Generator functions are defined using the yield keyword instead of return.\n",
    "The yield keyword allows the generator function to maintain its state between iterations, which makes it possible to generate values lazily without consuming a lot of memory. Generator functions are useful for working with large datasets, infinite sequences, and other scenarios where you want to generate values on-the-fly."
   ]
  },
  {
   "cell_type": "code",
   "execution_count": 22,
   "id": "cbf19798",
   "metadata": {},
   "outputs": [
    {
     "name": "stdout",
     "output_type": "stream",
     "text": [
      "0\n",
      "1\n",
      "2\n",
      "3\n",
      "4\n"
     ]
    }
   ],
   "source": [
    "def countdown():\n",
    "    i=0\n",
    "    while i < 5:\n",
    "        yield i\n",
    "        i += 1\n",
    "\n",
    "res = countdown()\n",
    "for num in res:\n",
    "    print(num)"
   ]
  },
  {
   "cell_type": "markdown",
   "id": "2dd88490",
   "metadata": {},
   "source": [
    "# Answer5"
   ]
  },
  {
   "cell_type": "code",
   "execution_count": 24,
   "id": "4765c567",
   "metadata": {},
   "outputs": [
    {
     "name": "stdout",
     "output_type": "stream",
     "text": [
      "2\n",
      "3\n",
      "5\n",
      "7\n",
      "11\n",
      "13\n",
      "17\n",
      "19\n",
      "23\n",
      "29\n",
      "31\n",
      "37\n",
      "41\n",
      "43\n",
      "47\n",
      "53\n",
      "59\n",
      "61\n",
      "67\n",
      "71\n"
     ]
    }
   ],
   "source": [
    " def is_prime(number):\n",
    "    if number <= 1:\n",
    "        return False\n",
    "    if number <= 3:\n",
    "        return True\n",
    "    if number % 2 == 0 or number % 3 == 0:\n",
    "        return False\n",
    "    i = 5\n",
    "    while i * i <= number:\n",
    "        if number % i == 0 or number % (i + 2) == 0:\n",
    "            return False\n",
    "        i += 6\n",
    "    return True\n",
    "\n",
    "def generate_primes(n):\n",
    "    number = 2\n",
    "    while True:\n",
    "        if is_prime(number):\n",
    "            yield number\n",
    "        number += 1\n",
    "\n",
    "prime_generator = generate_primes(1000)\n",
    "\n",
    "# Print the first 20 prime numbers\n",
    "for _ in range(20):\n",
    "    prime = next(prime_generator)\n",
    "    print(prime)\n"
   ]
  },
  {
   "cell_type": "code",
   "execution_count": null,
   "id": "292c6154",
   "metadata": {},
   "outputs": [],
   "source": []
  }
 ],
 "metadata": {
  "kernelspec": {
   "display_name": "Python 3 (ipykernel)",
   "language": "python",
   "name": "python3"
  },
  "language_info": {
   "codemirror_mode": {
    "name": "ipython",
    "version": 3
   },
   "file_extension": ".py",
   "mimetype": "text/x-python",
   "name": "python",
   "nbconvert_exporter": "python",
   "pygments_lexer": "ipython3",
   "version": "3.11.4"
  }
 },
 "nbformat": 4,
 "nbformat_minor": 5
}
